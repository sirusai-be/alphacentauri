{
 "cells": [
  {
   "cell_type": "markdown",
   "id": "b06f2c8c",
   "metadata": {},
   "source": [
    "# Azure OpenAI - AlphaCentauri Project\n",
    "## Step 1: Setting up your Azure & Langchain"
   ]
  },
  {
   "cell_type": "code",
   "execution_count": 7,
   "id": "4f50d21c",
   "metadata": {},
   "outputs": [
    {
     "data": {
      "text/plain": [
       "True"
      ]
     },
     "execution_count": 7,
     "metadata": {},
     "output_type": "execute_result"
    }
   ],
   "source": [
    "import os\n",
    "import pandas as pd\n",
    "from IPython.display import Markdown, HTML, display\n",
    "from dotenv import load_dotenv\n",
    "\n",
    "# Load environment variables from .env file\n",
    "load_dotenv(override=True)\n"
   ]
  },
  {
   "cell_type": "code",
   "execution_count": 9,
   "id": "4dc68452",
   "metadata": {},
   "outputs": [
    {
     "name": "stdout",
     "output_type": "stream",
     "text": [
      "✅ Azure OpenAI client configured\n",
      "Endpoint: https://js-alphacentauri-resource.openai.azure.com/\n",
      "Deployment: gpt-4.1-mini\n",
      "API Version: 2024-12-01-preview\n"
     ]
    }
   ],
   "source": [
    "\n",
    "from openai import AzureOpenAI\n",
    "\n",
    "# Azure OpenAI Configuration (CORRECT endpoint from Azure Portal)\n",
    "#endpoint = \"https://js-alphacentauri-resource.cognitiveservices.azure.com/\"\n",
    "endpoint =\"https://js-alphacentauri-resource.openai.azure.com/\"\n",
    "deployment = \"gpt-4.1-mini\"\n",
    "api_version = \"2024-12-01-preview\"\n",
    "\n",
    "# Get API key from environment\n",
    "subscription_key = os.getenv(\"AZURE_OPENAI_API_KEY\")\n",
    "\n",
    "# Create Azure OpenAI client\n",
    "client = AzureOpenAI(\n",
    "    api_version=api_version,\n",
    "    azure_endpoint=endpoint,\n",
    "    api_key=subscription_key,\n",
    ")\n",
    "\n",
    "print(\"✅ Azure OpenAI client configured\")\n",
    "print(f\"Endpoint: {endpoint}\")\n",
    "print(f\"Deployment: {deployment}\")\n",
    "print(f\"API Version: {api_version}\")\n"
   ]
  },
  {
   "cell_type": "code",
   "execution_count": 11,
   "id": "a6c6a1cc",
   "metadata": {},
   "outputs": [
    {
     "name": "stdout",
     "output_type": "stream",
     "text": [
      "Hello! I'm here and working for you. Don't worry, everything will be fine! If you need any help, just let me know.\n"
     ]
    }
   ],
   "source": [
    "# Test the connection\n",
    "response = client.chat.completions.create(\n",
    "    messages=[\n",
    "        {\n",
    "            \"role\": \"system\",\n",
    "            \"content\": \"You are a helpful assistant.\",\n",
    "        },\n",
    "        {\n",
    "            \"role\": \"user\",\n",
    "            \"content\": \"Say hello and tell me you're working! Tell me not to worry, everything will be fine.\",\n",
    "        }\n",
    "    ],\n",
    "    model=deployment\n",
    ")\n",
    "\n",
    "print(response.choices[0].message.content)\n"
   ]
  },
  {
   "cell_type": "markdown",
   "id": "44d0d86e",
   "metadata": {},
   "source": [
    "### LangChain Integration\n"
   ]
  },
  {
   "cell_type": "code",
   "execution_count": 24,
   "id": "306807e1",
   "metadata": {},
   "outputs": [
    {
     "name": "stdout",
     "output_type": "stream",
     "text": [
      "Sure! \n",
      "\n",
      "- French: Bonjour, comment ça va ?  \n",
      "- Spanish: Hola, ¿cómo estás?\n"
     ]
    }
   ],
   "source": [
    "from langchain_openai import AzureChatOpenAI\n",
    "from langchain.schema import HumanMessage, SystemMessage\n",
    "\n",
    "# Create LangChain model\n",
    "model = AzureChatOpenAI(\n",
    "    openai_api_version=api_version,\n",
    "    azure_deployment=deployment,\n",
    "    azure_endpoint=endpoint,\n",
    "    api_key=subscription_key\n",
    ")\n",
    "\n",
    "# Test with LangChain\n",
    "messages = [\n",
    "    SystemMessage(content=\"You are a helpful assistant.\"),\n",
    "    HumanMessage(content=\"Translate 'Hello, how are you?' to French and Spanish.\")\n",
    "]\n",
    "\n",
    "response = model.invoke(messages)\n",
    "print(response.content)\n"
   ]
  },
  {
   "cell_type": "markdown",
   "id": "594d0230",
   "metadata": {},
   "source": [
    "### Streaming Response Example\n"
   ]
  },
  {
   "cell_type": "code",
   "execution_count": 29,
   "id": "46b3a937",
   "metadata": {},
   "outputs": [
    {
     "name": "stdout",
     "output_type": "stream",
     "text": [
      "Streaming response:\n",
      "Sure! Here is the translation of the sentence \"I like red cars and blue houses, but my dog is yellow.\" in French, West Vlaams, and Spanish:\n",
      "\n",
      "French: J'aime les voitures rouges et les maisons bleues, mais mon chien est jaune.  \n",
      "West Vlaams: Ik häd van rode wagens en blauwe huzen, moar mien hond is geel.  \n",
      "Spanish: Me gustan los coches rojos y las casas azules, pero mi perro es amarillo."
     ]
    }
   ],
   "source": [
    "v_messages = [\n",
    "    SystemMessage(content=\"You are a helpful assistant.\"),\n",
    "    HumanMessage(content=\"Translate this sentence from English \"\n",
    "    \"to French and Spanish. I like red cars and \"\n",
    "    \"blue houses, but my dog is yellow.\")\n",
    "]   \n",
    "\n",
    "## alternative way to stream the response\n",
    "    # messages=[\n",
    "    #     {\n",
    "    #         \"role\": \"system\",\n",
    "    #         \"content\": \"You are a helpful assistant.\",\n",
    "    #     },\n",
    "    #     {\n",
    "    #         \"role\": \"user\",\n",
    "    #         \"content\": \"Translate this sentence from English \"\n",
    "    # \"to French and Spanish. I like red cars and \"\n",
    "    # \"blue houses, but my dog is yellow.\",\n",
    "    #     }\n",
    "    # ],\n",
    "\n",
    "# Stream the output for better user experience\n",
    "response = client.chat.completions.create(\n",
    "    stream=True,\n",
    "    messages=[\n",
    "        {\n",
    "            \"role\": \"system\",\n",
    "            \"content\": \"You are a helpful assistant.\",\n",
    "        },\n",
    "        {\n",
    "            \"role\": \"user\",\n",
    "            \"content\": \"Translate this sentence from English \"\n",
    "    \"to French, West Vlaams and Spanish. I like red cars and \"\n",
    "    \"blue houses, but my dog is yellow.\",\n",
    "        }\n",
    "    ],\n",
    "    model=deployment,\n",
    ")\n",
    "\n",
    "print(\"Streaming response:\")\n",
    "for update in response:\n",
    "    if update.choices:\n",
    "        print(update.choices[0].delta.content or \"\", end=\"\")\n"
   ]
  },
  {
   "cell_type": "markdown",
   "id": "b75feb0a",
   "metadata": {},
   "source": [
    "### 🔍 Debug: Verify Deployment Name\n"
   ]
  },
  {
   "cell_type": "code",
   "execution_count": 27,
   "id": "adfd43f5",
   "metadata": {},
   "outputs": [
    {
     "data": {
      "text/plain": [
       "AIMessage(content=\"Sure! Here is the translation:\\n\\nFrench: J'aime les voitures rouges et les maisons bleues, mais mon chien est jaune.  \\nSpanish: Me gustan los coches rojos y las casas azules, pero mi perro es amarillo.\", additional_kwargs={'refusal': None}, response_metadata={'token_usage': {'completion_tokens': 48, 'prompt_tokens': 41, 'total_tokens': 89, 'completion_tokens_details': {'accepted_prediction_tokens': 0, 'audio_tokens': 0, 'reasoning_tokens': 0, 'rejected_prediction_tokens': 0}, 'prompt_tokens_details': {'audio_tokens': 0, 'cached_tokens': 0}}, 'model_name': 'gpt-4.1-mini-2025-04-14', 'system_fingerprint': 'fp_3dcd5944f5', 'id': 'chatcmpl-CWlOQGWGdgQng9dd1MG9julAyDZP8', 'service_tier': None, 'prompt_filter_results': [{'prompt_index': 0, 'content_filter_results': {'hate': {'filtered': False, 'severity': 'safe'}, 'jailbreak': {'filtered': False, 'detected': False}, 'self_harm': {'filtered': False, 'severity': 'safe'}, 'sexual': {'filtered': False, 'severity': 'safe'}, 'violence': {'filtered': False, 'severity': 'safe'}}}], 'finish_reason': 'stop', 'logprobs': None, 'content_filter_results': {'hate': {'filtered': False, 'severity': 'safe'}, 'protected_material_text': {'filtered': False, 'detected': False}, 'self_harm': {'filtered': False, 'severity': 'safe'}, 'sexual': {'filtered': False, 'severity': 'safe'}, 'violence': {'filtered': False, 'severity': 'safe'}}}, id='run--f3a64ce5-8246-4081-b8de-336f8e03bcc6-0', usage_metadata={'input_tokens': 41, 'output_tokens': 48, 'total_tokens': 89, 'input_token_details': {'audio': 0, 'cache_read': 0}, 'output_token_details': {'audio': 0, 'reasoning': 0}})"
      ]
     },
     "execution_count": 27,
     "metadata": {},
     "output_type": "execute_result"
    }
   ],
   "source": [
    "model.invoke((v_messages))"
   ]
  },
  {
   "cell_type": "markdown",
   "id": "ddb72785",
   "metadata": {},
   "source": [
    "## Step 2: Interacting with CSV Data"
   ]
  },
  {
   "cell_type": "code",
   "execution_count": 30,
   "id": "ed5af74e",
   "metadata": {},
   "outputs": [],
   "source": [
    "# Create LangChain model\n",
    "model = AzureChatOpenAI(\n",
    "    openai_api_version=api_version,\n",
    "    azure_deployment=deployment,\n",
    "    azure_endpoint=endpoint,\n",
    "    api_key=subscription_key\n",
    ")\n"
   ]
  },
  {
   "cell_type": "markdown",
   "id": "688e243d",
   "metadata": {},
   "source": [
    "### Load the dataset\n",
    "- baseline model -->\n",
    "- could use \n",
    "  a) fine tuning for sql tasks \n",
    "  b) RAG (database as a source)\n",
    "    - use Langchain agents to connect to SQL Database or CSV file\n",
    "    - via Azure OpenAI Assistants API (function calling + code interpreter) (stateful management + short term memory)\n",
    "    - via Azure OpenAI Fucntion Calling: to perform tasks based on your questions\n",
    "    - Vai Native Database API"
   ]
  },
  {
   "cell_type": "code",
   "execution_count": 31,
   "id": "8cd3120a",
   "metadata": {},
   "outputs": [],
   "source": [
    "#read in the data from the csv file\n",
    "df = pd.read_csv(\"./data/all-states-history.csv\").fillna(value = 0)"
   ]
  },
  {
   "cell_type": "code",
   "execution_count": 36,
   "id": "4227b756",
   "metadata": {},
   "outputs": [
    {
     "data": {
      "text/html": [
       "<div>\n",
       "<style scoped>\n",
       "    .dataframe tbody tr th:only-of-type {\n",
       "        vertical-align: middle;\n",
       "    }\n",
       "\n",
       "    .dataframe tbody tr th {\n",
       "        vertical-align: top;\n",
       "    }\n",
       "\n",
       "    .dataframe thead th {\n",
       "        text-align: right;\n",
       "    }\n",
       "</style>\n",
       "<table border=\"1\" class=\"dataframe\">\n",
       "  <thead>\n",
       "    <tr style=\"text-align: right;\">\n",
       "      <th></th>\n",
       "      <th>date</th>\n",
       "      <th>state</th>\n",
       "      <th>death</th>\n",
       "      <th>deathConfirmed</th>\n",
       "      <th>deathIncrease</th>\n",
       "      <th>deathProbable</th>\n",
       "      <th>hospitalized</th>\n",
       "      <th>hospitalizedCumulative</th>\n",
       "      <th>hospitalizedCurrently</th>\n",
       "      <th>hospitalizedIncrease</th>\n",
       "      <th>...</th>\n",
       "      <th>totalTestResults</th>\n",
       "      <th>totalTestResultsIncrease</th>\n",
       "      <th>totalTestsAntibody</th>\n",
       "      <th>totalTestsAntigen</th>\n",
       "      <th>totalTestsPeopleAntibody</th>\n",
       "      <th>totalTestsPeopleAntigen</th>\n",
       "      <th>totalTestsPeopleViral</th>\n",
       "      <th>totalTestsPeopleViralIncrease</th>\n",
       "      <th>totalTestsViral</th>\n",
       "      <th>totalTestsViralIncrease</th>\n",
       "    </tr>\n",
       "  </thead>\n",
       "  <tbody>\n",
       "    <tr>\n",
       "      <th>0</th>\n",
       "      <td>2021-03-07</td>\n",
       "      <td>AK</td>\n",
       "      <td>305.0</td>\n",
       "      <td>0.0</td>\n",
       "      <td>0</td>\n",
       "      <td>0.0</td>\n",
       "      <td>1293.0</td>\n",
       "      <td>1293.0</td>\n",
       "      <td>33.0</td>\n",
       "      <td>0</td>\n",
       "      <td>...</td>\n",
       "      <td>1731628.0</td>\n",
       "      <td>0</td>\n",
       "      <td>0.0</td>\n",
       "      <td>0.0</td>\n",
       "      <td>0.0</td>\n",
       "      <td>0.0</td>\n",
       "      <td>0.0</td>\n",
       "      <td>0</td>\n",
       "      <td>1731628.0</td>\n",
       "      <td>0</td>\n",
       "    </tr>\n",
       "    <tr>\n",
       "      <th>1</th>\n",
       "      <td>2021-03-07</td>\n",
       "      <td>AL</td>\n",
       "      <td>10148.0</td>\n",
       "      <td>7963.0</td>\n",
       "      <td>-1</td>\n",
       "      <td>2185.0</td>\n",
       "      <td>45976.0</td>\n",
       "      <td>45976.0</td>\n",
       "      <td>494.0</td>\n",
       "      <td>0</td>\n",
       "      <td>...</td>\n",
       "      <td>2323788.0</td>\n",
       "      <td>2347</td>\n",
       "      <td>0.0</td>\n",
       "      <td>0.0</td>\n",
       "      <td>119757.0</td>\n",
       "      <td>0.0</td>\n",
       "      <td>2323788.0</td>\n",
       "      <td>2347</td>\n",
       "      <td>0.0</td>\n",
       "      <td>0</td>\n",
       "    </tr>\n",
       "    <tr>\n",
       "      <th>2</th>\n",
       "      <td>2021-03-07</td>\n",
       "      <td>AR</td>\n",
       "      <td>5319.0</td>\n",
       "      <td>4308.0</td>\n",
       "      <td>22</td>\n",
       "      <td>1011.0</td>\n",
       "      <td>14926.0</td>\n",
       "      <td>14926.0</td>\n",
       "      <td>335.0</td>\n",
       "      <td>11</td>\n",
       "      <td>...</td>\n",
       "      <td>2736442.0</td>\n",
       "      <td>3380</td>\n",
       "      <td>0.0</td>\n",
       "      <td>0.0</td>\n",
       "      <td>0.0</td>\n",
       "      <td>481311.0</td>\n",
       "      <td>0.0</td>\n",
       "      <td>0</td>\n",
       "      <td>2736442.0</td>\n",
       "      <td>3380</td>\n",
       "    </tr>\n",
       "    <tr>\n",
       "      <th>3</th>\n",
       "      <td>2021-03-07</td>\n",
       "      <td>AS</td>\n",
       "      <td>0.0</td>\n",
       "      <td>0.0</td>\n",
       "      <td>0</td>\n",
       "      <td>0.0</td>\n",
       "      <td>0.0</td>\n",
       "      <td>0.0</td>\n",
       "      <td>0.0</td>\n",
       "      <td>0</td>\n",
       "      <td>...</td>\n",
       "      <td>2140.0</td>\n",
       "      <td>0</td>\n",
       "      <td>0.0</td>\n",
       "      <td>0.0</td>\n",
       "      <td>0.0</td>\n",
       "      <td>0.0</td>\n",
       "      <td>0.0</td>\n",
       "      <td>0</td>\n",
       "      <td>2140.0</td>\n",
       "      <td>0</td>\n",
       "    </tr>\n",
       "    <tr>\n",
       "      <th>4</th>\n",
       "      <td>2021-03-07</td>\n",
       "      <td>AZ</td>\n",
       "      <td>16328.0</td>\n",
       "      <td>14403.0</td>\n",
       "      <td>5</td>\n",
       "      <td>1925.0</td>\n",
       "      <td>57907.0</td>\n",
       "      <td>57907.0</td>\n",
       "      <td>963.0</td>\n",
       "      <td>44</td>\n",
       "      <td>...</td>\n",
       "      <td>7908105.0</td>\n",
       "      <td>45110</td>\n",
       "      <td>580569.0</td>\n",
       "      <td>0.0</td>\n",
       "      <td>444089.0</td>\n",
       "      <td>0.0</td>\n",
       "      <td>3842945.0</td>\n",
       "      <td>14856</td>\n",
       "      <td>7908105.0</td>\n",
       "      <td>45110</td>\n",
       "    </tr>\n",
       "  </tbody>\n",
       "</table>\n",
       "<p>5 rows × 41 columns</p>\n",
       "</div>"
      ],
      "text/plain": [
       "         date state    death  deathConfirmed  deathIncrease  deathProbable  \\\n",
       "0  2021-03-07    AK    305.0             0.0              0            0.0   \n",
       "1  2021-03-07    AL  10148.0          7963.0             -1         2185.0   \n",
       "2  2021-03-07    AR   5319.0          4308.0             22         1011.0   \n",
       "3  2021-03-07    AS      0.0             0.0              0            0.0   \n",
       "4  2021-03-07    AZ  16328.0         14403.0              5         1925.0   \n",
       "\n",
       "   hospitalized  hospitalizedCumulative  hospitalizedCurrently  \\\n",
       "0        1293.0                  1293.0                   33.0   \n",
       "1       45976.0                 45976.0                  494.0   \n",
       "2       14926.0                 14926.0                  335.0   \n",
       "3           0.0                     0.0                    0.0   \n",
       "4       57907.0                 57907.0                  963.0   \n",
       "\n",
       "   hospitalizedIncrease  ...  totalTestResults  totalTestResultsIncrease  \\\n",
       "0                     0  ...         1731628.0                         0   \n",
       "1                     0  ...         2323788.0                      2347   \n",
       "2                    11  ...         2736442.0                      3380   \n",
       "3                     0  ...            2140.0                         0   \n",
       "4                    44  ...         7908105.0                     45110   \n",
       "\n",
       "   totalTestsAntibody  totalTestsAntigen  totalTestsPeopleAntibody  \\\n",
       "0                 0.0                0.0                       0.0   \n",
       "1                 0.0                0.0                  119757.0   \n",
       "2                 0.0                0.0                       0.0   \n",
       "3                 0.0                0.0                       0.0   \n",
       "4            580569.0                0.0                  444089.0   \n",
       "\n",
       "   totalTestsPeopleAntigen  totalTestsPeopleViral  \\\n",
       "0                      0.0                    0.0   \n",
       "1                      0.0              2323788.0   \n",
       "2                 481311.0                    0.0   \n",
       "3                      0.0                    0.0   \n",
       "4                      0.0              3842945.0   \n",
       "\n",
       "   totalTestsPeopleViralIncrease  totalTestsViral  totalTestsViralIncrease  \n",
       "0                              0        1731628.0                        0  \n",
       "1                           2347              0.0                        0  \n",
       "2                              0        2736442.0                     3380  \n",
       "3                              0           2140.0                        0  \n",
       "4                          14856        7908105.0                    45110  \n",
       "\n",
       "[5 rows x 41 columns]"
      ]
     },
     "execution_count": 36,
     "metadata": {},
     "output_type": "execute_result"
    }
   ],
   "source": [
    "#check if the file is read \n",
    "df.head()"
   ]
  },
  {
   "cell_type": "markdown",
   "id": "4bcb9e86",
   "metadata": {},
   "source": [
    "#### <span style=\"color: red\">SOME ATTENTION REQUIRED</span> \n",
    "create_pandas_dataframe_agent() maak een “agent” die:\n",
    "- Je dataframe (df) kent\n",
    "- Je prompt interpreteert (“How many rows are there?”)\n",
    "- Daarvoor zelf Python-code schrijft\n",
    "- En die code uitvoert in een “Python REPL” (read–eval–print-loop) in jouw proces.\n",
    "De “REPL” is in feite een mini-Python-console binnen jouw proces.\n",
    "En de LLM (of een kwaadaardige prompt) kan daarin eender welke code uitvoeren.\n",
    "Niet alleen veilige dingen zoals len(df), maar ook bijvoorbeeld:\n",
    "\n",
    "--> gezien we controle hebben over de data hier kunnen we **allow_dangerous_code=True** toevoegen, MAAR GEBRUIK DIT NIET IN PRODUCTIE!\n"
   ]
  },
  {
   "cell_type": "code",
   "execution_count": 38,
   "id": "44c9b405",
   "metadata": {},
   "outputs": [
    {
     "name": "stdout",
     "output_type": "stream",
     "text": [
      "\n",
      "\n",
      "\u001b[1m> Entering new AgentExecutor chain...\u001b[0m\n",
      "\u001b[32;1m\u001b[1;3mThought: To determine the number of rows in the dataframe `df`, I can use the `len()` function or check the shape of the dataframe.\n",
      "\n",
      "Action: python_repl_ast\n",
      "Action Input: len(df)\u001b[0m\u001b[36;1m\u001b[1;3m20780\u001b[0m\u001b[32;1m\u001b[1;3mThought: The number of rows in the dataframe `df` is 20780.\n",
      "Final Answer: There are 20780 rows in the dataframe `df`.\u001b[0m\n",
      "\n",
      "\u001b[1m> Finished chain.\u001b[0m\n"
     ]
    },
    {
     "data": {
      "text/plain": [
       "{'input': 'how many rows are there?',\n",
       " 'output': 'There are 20780 rows in the dataframe `df`.'}"
      ]
     },
     "execution_count": 38,
     "metadata": {},
     "output_type": "execute_result"
    }
   ],
   "source": [
    "from langchain.agents.agent_types import AgentType\n",
    "from langchain_experimental.agents.agent_toolkits import create_pandas_dataframe_agent\n",
    "\n",
    "agent = create_pandas_dataframe_agent(llm=model,df=df,verbose=True, allow_dangerous_code=True)\n",
    "\n",
    "agent.invoke(\"how many rows are there?\")"
   ]
  },
  {
   "cell_type": "code",
   "execution_count": 39,
   "id": "b41f657a",
   "metadata": {},
   "outputs": [
    {
     "name": "stdout",
     "output_type": "stream",
     "text": [
      "\n",
      "\n",
      "\u001b[1m> Entering new AgentExecutor chain...\u001b[0m\n",
      "\u001b[32;1m\u001b[1;3mThought: I should analyze the dataframe structure and the data it contains. From the `print(df.head())` output, I can see the columns and a few first rows. The data contains COVID-19 related statistics, like deaths, hospitalization, testing results, and increases in numbers for various US states on a certain date. The date column shows the date of the data, and the state column shows the state abbreviation. There are numerical columns representing counts related to deaths (confirmed, probable, increases), hospitalizations, ICU cases, testing negative, positive, recoveries, etc. It appears to be a time series or snapshot of COVID-19 data by state.\n",
      "\n",
      "Thought: I will summarize the key points about the data to provide a clear answer.\n",
      "\n",
      "Final Answer: The dataframe `df` contains COVID-19 related data for different US states on specific dates. Each row corresponds to a state and date and includes various statistics such as the total number of deaths (confirmed and probable), increases in deaths, hospitalizations (current, cumulative, increases), ICU and ventilator usage, testing results (negative, positive, antibody, antigen, viral tests), recoveries, and other related metrics. The data appears to be detailed state-level daily or periodic reports capturing both cumulative numbers and daily changes across multiple COVID-19 indicators.\u001b[0m\n",
      "\n",
      "\u001b[1m> Finished chain.\u001b[0m\n"
     ]
    },
    {
     "data": {
      "text/plain": [
       "{'input': 'What can you tell me about the data?',\n",
       " 'output': 'The dataframe `df` contains COVID-19 related data for different US states on specific dates. Each row corresponds to a state and date and includes various statistics such as the total number of deaths (confirmed and probable), increases in deaths, hospitalizations (current, cumulative, increases), ICU and ventilator usage, testing results (negative, positive, antibody, antigen, viral tests), recoveries, and other related metrics. The data appears to be detailed state-level daily or periodic reports capturing both cumulative numbers and daily changes across multiple COVID-19 indicators.'}"
      ]
     },
     "execution_count": 39,
     "metadata": {},
     "output_type": "execute_result"
    }
   ],
   "source": [
    "agent.invoke(\"What can you tell me about the data?\")"
   ]
  },
  {
   "cell_type": "code",
   "execution_count": 40,
   "id": "e51f15be",
   "metadata": {},
   "outputs": [
    {
     "name": "stdout",
     "output_type": "stream",
     "text": [
      "\n",
      "\n",
      "\u001b[1m> Entering new AgentExecutor chain...\u001b[0m\n",
      "\u001b[32;1m\u001b[1;3mQuestion: How many patients were hospitalized during July 2020?\n",
      "\n",
      "Thought: I need to first set the display options to show all columns in pandas, then check all the column names to identify the columns related to hospitalization. After that, I should filter the dataframe to only include rows from July 2020 and sum the relevant hospitalization column(s). I will try two methods by using different hospitalization columns and compare the results.\n",
      "\n",
      "Action: python_repl_ast\n",
      "Action Input: |\n",
      "    import pandas as pd\n",
      "    pd.set_option('display.max_columns', None)\n",
      "    colnames = df.columns.tolist()\n",
      "    colnames\u001b[0m\u001b[36;1m\u001b[1;3mSyntaxError: invalid syntax (<unknown>, line 1)\u001b[0m\u001b[32;1m\u001b[1;3mThought: It seems from the observation that the input was interpreted as multi-line code with a syntax error possibly due to the environment. I will try to run the commands one by one and check the column names again.\n",
      "\n",
      "Action: python_repl_ast\n",
      "Action Input: import pandas as pd\u001b[0m\u001b[36;1m\u001b[1;3m\u001b[0m\u001b[32;1m\u001b[1;3mThought: I successfully imported pandas. Now I will set the display option to show all columns and then get the column names.\n",
      "\n",
      "Action: python_repl_ast\n",
      "Action Input: |\n",
      "    pd.set_option('display.max_columns', None)\n",
      "    colnames = df.columns.tolist()\n",
      "    colnames\u001b[0m\u001b[36;1m\u001b[1;3mSyntaxError: invalid syntax (<unknown>, line 1)\u001b[0m\u001b[32;1m\u001b[1;3mThought: The multiline input seems to cause a syntax error in the environment. I will split the commands into separate single-line commands.\n",
      "\n",
      "Action: python_repl_ast\n",
      "Action Input: pd.set_option('display.max_columns', None)\u001b[0m\u001b[36;1m\u001b[1;3m\u001b[0m\u001b[32;1m\u001b[1;3mThought: I have successfully set pandas to display all columns. Now I will get the column names with a single command.\n",
      "\n",
      "Action: python_repl_ast\n",
      "Action Input: df.columns.tolist()\u001b[0m\u001b[36;1m\u001b[1;3m['date', 'state', 'death', 'deathConfirmed', 'deathIncrease', 'deathProbable', 'hospitalized', 'hospitalizedCumulative', 'hospitalizedCurrently', 'hospitalizedIncrease', 'inIcuCumulative', 'inIcuCurrently', 'negative', 'negativeIncrease', 'negativeTestsAntibody', 'negativeTestsPeopleAntibody', 'negativeTestsViral', 'onVentilatorCumulative', 'onVentilatorCurrently', 'positive', 'positiveCasesViral', 'positiveIncrease', 'positiveScore', 'positiveTestsAntibody', 'positiveTestsAntigen', 'positiveTestsPeopleAntibody', 'positiveTestsPeopleAntigen', 'positiveTestsViral', 'recovered', 'totalTestEncountersViral', 'totalTestEncountersViralIncrease', 'totalTestResults', 'totalTestResultsIncrease', 'totalTestsAntibody', 'totalTestsAntigen', 'totalTestsPeopleAntibody', 'totalTestsPeopleAntigen', 'totalTestsPeopleViral', 'totalTestsPeopleViralIncrease', 'totalTestsViral', 'totalTestsViralIncrease']\u001b[0m\u001b[32;1m\u001b[1;3mQuestion: How many patients were hospitalized during July 2020?\n",
      "\n",
      "Thought: There are multiple columns related to hospitalization including 'hospitalized', 'hospitalizedCumulative', 'hospitalizedCurrently', and 'hospitalizedIncrease'. The most relevant for the count of hospitalized patients during a specific period might be either 'hospitalized' (probably daily or total at that date) or aggregations from 'hospitalizedIncrease' or 'hospitalizedCurrently'. I need first to filter the df for July 2020 dates, i.e., dates between 2020-07-01 and 2020-07-31. Then I will sum up hospitalization data using two different columns to see if results match or at least close.\n",
      "\n",
      "Action: python_repl_ast\n",
      "Action Input: |\n",
      "    # Convert date column to datetime if not already\n",
      "    df['date'] = pd.to_datetime(df['date'])\n",
      "    # Filter for July 2020\n",
      "    july_2020_df = df[(df['date'] >= '2020-07-01') & (df['date'] <= '2020-07-31')]\n",
      "    # Method 1: Sum of 'hospitalized' column\n",
      "    method1 = july_2020_df['hospitalized'].sum()\n",
      "    # Method 2: Sum of 'hospitalizedCurrently' column\n",
      "    method2 = july_2020_df['hospitalizedCurrently'].sum()\n",
      "    method1, method2\u001b[0m\u001b[36;1m\u001b[1;3mSyntaxError: invalid syntax (<unknown>, line 1)\u001b[0m\u001b[32;1m\u001b[1;3mThought: The same multiline input again caused a syntax error in the environment. I will split the commands for converting the date, filtering, and then summarizing into separate steps.\n",
      "\n",
      "Action: python_repl_ast\n",
      "Action Input: df['date'] = pd.to_datetime(df['date'])\u001b[0m\u001b[36;1m\u001b[1;3m\u001b[0m\u001b[32;1m\u001b[1;3mThought: I've converted the date column to datetime. Next I will filter the dataframe for July 2020 and compute the sum of 'hospitalized' and 'hospitalizedCurrently' columns separately, using single line commands.\n",
      "\n",
      "Action: python_repl_ast\n",
      "Action Input: july_2020_df = df[(df['date'] >= '2020-07-01') & (df['date'] <= '2020-07-31')]\u001b[0m\u001b[36;1m\u001b[1;3m\u001b[0m\u001b[32;1m\u001b[1;3mAction: python_repl_ast\n",
      "Action Input: july_2020_sum_hospitalized = july_2020_df['hospitalized'].sum()\n",
      "july_2020_sum_hospitalized\u001b[0m\u001b[36;1m\u001b[1;3m5535849.0\u001b[0m\u001b[32;1m\u001b[1;3mThought: I have the sum of the 'hospitalized' column for July 2020, which is 5,535,849.0. Now I will calculate the sum of the 'hospitalizedCurrently' column for the same period as the second method and compare the results.\n",
      "\n",
      "Action: python_repl_ast\n",
      "Action Input: july_2020_sum_hospitalizedCurrently = july_2020_df['hospitalizedCurrently'].sum()\n",
      "july_2020_sum_hospitalizedCurrently\u001b[0m\u001b[36;1m\u001b[1;3m1613867.0\u001b[0m\u001b[32;1m\u001b[1;3mThought: The two sums are quite different: 5,535,849 from 'hospitalized' and 1,613,867 from 'hospitalizedCurrently'. The 'hospitalized' column may represent cumulative or daily new hospitalizations, while 'hospitalizedCurrently' likely reflects the number of patients currently hospitalized on that date. I should try a third method to clarify: maybe the 'hospitalizedIncrease' column sums daily new hospitalizations. I will calculate the sum of 'hospitalizedIncrease' for July 2020 and see if it aligns more closely with either of the previous results.\n",
      "\n",
      "Action: python_repl_ast\n",
      "Action Input: july_2020_sum_hospitalizedIncrease = july_2020_df['hospitalizedIncrease'].sum()\n",
      "july_2020_sum_hospitalizedIncrease\u001b[0m\u001b[36;1m\u001b[1;3m63105\u001b[0m\u001b[32;1m\u001b[1;3mThought: The sum of 'hospitalizedIncrease' for July 2020 is 63,105, which is much smaller and likely represents the number of new hospitalizations during the month. The other sums represent cumulative or currently hospitalized counts that do not represent the total hospitalizations during the month. I should try one more method: taking the maximum of 'hospitalizedCumulative' at the end of July and subtracting the maximum at the start of July to get new hospitalizations in July.\n",
      "\n",
      "Action: python_repl_ast\n",
      "Action Input: |\n",
      "    max_cumulative_end = july_2020_df[july_2020_df['date'] == '2020-07-31']['hospitalizedCumulative'].max()\n",
      "    max_cumulative_start = july_2020_df[july_2020_df['date'] == '2020-07-01']['hospitalizedCumulative'].max()\n",
      "    new_hospitalizations_july = max_cumulative_end - max_cumulative_start\n",
      "    max_cumulative_start, max_cumulative_end, new_hospitalizations_july\u001b[0m\u001b[36;1m\u001b[1;3mSyntaxError: invalid syntax (<unknown>, line 1)\u001b[0m\u001b[32;1m\u001b[1;3mThought: The multi-line input caused a syntax error again. I will run these commands separately one by one:\n",
      "1. Get the maximum hospitalizedCumulative value for July 31, 2020.\n",
      "2. Get the maximum hospitalizedCumulative value for July 1, 2020.\n",
      "3. Subtract the two to estimate new hospitalizations in July.\n",
      "\n",
      "Action: python_repl_ast\n",
      "Action Input: max_cumulative_end = df[df['date'] == '2020-07-31']['hospitalizedCumulative'].max()\n",
      "max_cumulative_end\u001b[0m\u001b[36;1m\u001b[1;3m26905.0\u001b[0m\u001b[32;1m\u001b[1;3mAction: python_repl_ast\n",
      "Action Input: max_cumulative_start = df[df['date'] == '2020-07-01']['hospitalizedCumulative'].max()\n",
      "max_cumulative_start\u001b[0m\u001b[36;1m\u001b[1;3m20054.0\u001b[0m\u001b[32;1m\u001b[1;3mThought: The increase in hospitalized cumulative from July 1 to July 31 is 26905 - 20054 = 6851, which could represent the number of new hospitalized patients during July 2020. This is closer to the hospitalizedIncrease sum (63105), but much smaller, suggesting hospitalizedIncrease sums daily increase figures across all states and dates. The maximum values come from overall max at those dates - but it might be the max for a single state rather than the total.\n",
      "\n",
      "I need to verify if the values we got for max on those dates represent overall totals or just max for a single state. Instead, I will sum hospitalizedCumulative over all states on July 1 and July 31 and subtract to estimate new hospitalizations in July.\n",
      "\n",
      "Action: python_repl_ast\n",
      "Action Input: |\n",
      "    sum_cumulative_start = df[df['date'] == '2020-07-01']['hospitalizedCumulative'].sum()\n",
      "    sum_cumulative_end = df[df['date'] == '2020-07-31']['hospitalizedCumulative'].sum()\n",
      "    sum_cumulative_start, sum_cumulative_end, sum_cumulative_end - sum_cumulative_start\u001b[0m\u001b[36;1m\u001b[1;3mSyntaxError: invalid syntax (<unknown>, line 1)\u001b[0m\u001b[32;1m\u001b[1;3m\u001b[0m\n",
      "\n",
      "\u001b[1m> Finished chain.\u001b[0m\n"
     ]
    },
    {
     "data": {
      "text/plain": [
       "{'input': '\\nFirst set the pandas display options to show all the columns,\\nget the column names, then answer the question.\\nHow may patients were hospitalized during July 2020\\n- **ALWAYS** before giving the Final Answer, try another method.\\nThen reflect on the answers of the two methods you did and ask yourself\\nif it answers correctly the original question.\\nIf you are not sure, try another method.\\n- If the methods tried do not give the same result,reflect and\\ntry again until you have two methods that have the same result.\\n- If you still cannot arrive to a consistent result, say that\\nyou are not sure of the answer.\\n- If you are sure of the correct answer, create a beautiful\\nand thorough response using Markdown.\\n- **DO NOT MAKE UP AN ANSWER OR USE PRIOR KNOWLEDGE,\\nONLY USE THE RESULTS OF THE CALCULATIONS YOU HAVE DONE**.\\n- **ALWAYS**, as part of your \"Final Answer\", explain how you got\\nto the answer on a section that starts with: \"\\n\\nExplanation:\\n\".\\nIn the explanation, mention the column names that you used to get\\nto the final answer.\\n',\n",
       " 'output': 'Agent stopped due to iteration limit or time limit.'}"
      ]
     },
     "execution_count": 40,
     "metadata": {},
     "output_type": "execute_result"
    }
   ],
   "source": [
    "CSV_PROMPT_PREFIX = \"\"\"\n",
    "First set the pandas display options to show all the columns,\n",
    "get the column names, then answer the question.\n",
    "\"\"\"\n",
    "\n",
    "CSV_PROMPT_SUFFIX = \"\"\"\n",
    "- **ALWAYS** before giving the Final Answer, try another method.\n",
    "Then reflect on the answers of the two methods you did and ask yourself\n",
    "if it answers correctly the original question.\n",
    "If you are not sure, try another method.\n",
    "- If the methods tried do not give the same result,reflect and\n",
    "try again until you have two methods that have the same result.\n",
    "- If you still cannot arrive to a consistent result, say that\n",
    "you are not sure of the answer.\n",
    "- If you are sure of the correct answer, create a beautiful\n",
    "and thorough response using Markdown.\n",
    "- **DO NOT MAKE UP AN ANSWER OR USE PRIOR KNOWLEDGE,\n",
    "ONLY USE THE RESULTS OF THE CALCULATIONS YOU HAVE DONE**.\n",
    "- **ALWAYS**, as part of your \"Final Answer\", explain how you got\n",
    "to the answer on a section that starts with: \"\\n\\nExplanation:\\n\".\n",
    "In the explanation, mention the column names that you used to get\n",
    "to the final answer.\n",
    "\"\"\"\n",
    "\n",
    "QUESTION = \"How may patients were hospitalized during July 2020\" \n",
    "\"in Texas, and nationwide as the total of all states?\"\n",
    "\"Use the hospitalizedIncrease column\" \n",
    "\n",
    "\n",
    "agent.invoke(CSV_PROMPT_PREFIX + QUESTION + CSV_PROMPT_SUFFIX)"
   ]
  },
  {
   "cell_type": "code",
   "execution_count": null,
   "id": "6e7ed1eb",
   "metadata": {},
   "outputs": [],
   "source": []
  }
 ],
 "metadata": {
  "kernelspec": {
   "display_name": ".venv",
   "language": "python",
   "name": "python3"
  },
  "language_info": {
   "codemirror_mode": {
    "name": "ipython",
    "version": 3
   },
   "file_extension": ".py",
   "mimetype": "text/x-python",
   "name": "python",
   "nbconvert_exporter": "python",
   "pygments_lexer": "ipython3",
   "version": "3.12.9"
  }
 },
 "nbformat": 4,
 "nbformat_minor": 5
}
